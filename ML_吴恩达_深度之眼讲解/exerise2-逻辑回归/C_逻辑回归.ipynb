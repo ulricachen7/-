{
 "cells": [
  {
   "cell_type": "markdown",
   "id": "38bf7179",
   "metadata": {},
   "source": [
    "# 1.逻辑回归"
   ]
  },
  {
   "cell_type": "code",
   "execution_count": 1,
   "id": "f3a794a3",
   "metadata": {},
   "outputs": [
    {
     "data": {
      "text/html": [
       "<div>\n",
       "<style scoped>\n",
       "    .dataframe tbody tr th:only-of-type {\n",
       "        vertical-align: middle;\n",
       "    }\n",
       "\n",
       "    .dataframe tbody tr th {\n",
       "        vertical-align: top;\n",
       "    }\n",
       "\n",
       "    .dataframe thead th {\n",
       "        text-align: right;\n",
       "    }\n",
       "</style>\n",
       "<table border=\"1\" class=\"dataframe\">\n",
       "  <thead>\n",
       "    <tr style=\"text-align: right;\">\n",
       "      <th></th>\n",
       "      <th>exam1</th>\n",
       "      <th>exam2</th>\n",
       "      <th>admitted</th>\n",
       "    </tr>\n",
       "  </thead>\n",
       "  <tbody>\n",
       "    <tr>\n",
       "      <th>0</th>\n",
       "      <td>34.623660</td>\n",
       "      <td>78.024693</td>\n",
       "      <td>0</td>\n",
       "    </tr>\n",
       "    <tr>\n",
       "      <th>1</th>\n",
       "      <td>30.286711</td>\n",
       "      <td>43.894998</td>\n",
       "      <td>0</td>\n",
       "    </tr>\n",
       "    <tr>\n",
       "      <th>2</th>\n",
       "      <td>35.847409</td>\n",
       "      <td>72.902198</td>\n",
       "      <td>0</td>\n",
       "    </tr>\n",
       "    <tr>\n",
       "      <th>3</th>\n",
       "      <td>60.182599</td>\n",
       "      <td>86.308552</td>\n",
       "      <td>1</td>\n",
       "    </tr>\n",
       "    <tr>\n",
       "      <th>4</th>\n",
       "      <td>79.032736</td>\n",
       "      <td>75.344376</td>\n",
       "      <td>1</td>\n",
       "    </tr>\n",
       "  </tbody>\n",
       "</table>\n",
       "</div>"
      ],
      "text/plain": [
       "       exam1      exam2  admitted\n",
       "0  34.623660  78.024693         0\n",
       "1  30.286711  43.894998         0\n",
       "2  35.847409  72.902198         0\n",
       "3  60.182599  86.308552         1\n",
       "4  79.032736  75.344376         1"
      ]
     },
     "execution_count": 1,
     "metadata": {},
     "output_type": "execute_result"
    }
   ],
   "source": [
    "import pandas as pd\n",
    "import numpy as np #矩阵运算\n",
    "import matplotlib.pyplot as plt\n",
    "import seaborn as sns #图形显示\n",
    "plt.style.use('fivethirtyeight') #样式美化\n",
    "from sklearn.metrics import classification_report\n",
    "\n",
    "data = pd.read_csv('ex2data1.txt', names=['exam1', 'exam2', 'admitted'])\n",
    "#data.head()不打括号没有格式\n",
    "data.head()\n"
   ]
  },
  {
   "cell_type": "code",
   "execution_count": 2,
   "id": "1d583e42",
   "metadata": {},
   "outputs": [
    {
     "data": {
      "image/png": "[encoded data removed]",
      "text/plain": [
       "<Figure size 486.8x432 with 1 Axes>"
      ]
     },
     "metadata": {},
     "output_type": "display_data"
    }
   ],
   "source": [
    "sns.set(context='notebook',style = \"darkgrid\",palette = sns.color_palette(\"RdBu\",2))\n",
    "#视频展示的函数sns.lmplot()已经更新了，以下为不报错的用法\n",
    "sns.lmplot(x = 'exam1',y = 'exam2',hue='admitted',data=data,\n",
    "           height=6, \n",
    "           fit_reg = False,\n",
    "           scatter_kws={\"s\": 50})\n",
    "plt.show()"
   ]
  },
  {
   "cell_type": "code",
   "execution_count": 3,
   "id": "950783ff",
   "metadata": {},
   "outputs": [],
   "source": [
    "#读取特征\n",
    "def get_X(df):\n",
    "    \n",
    "    #生成一个m行全为1的列向量\n",
    "    ones = pd.DataFrame({'ones':np.ones(len(df))})\n",
    "    #将全为1的列向量和输入的向量根据列进行合并\n",
    "    data = pd.concat([ones,df],axis = 1)\n",
    "    \n",
    "    return data.iloc[:,:-1].values\n",
    "\n",
    "#读取标签\n",
    "def get_y(df):\n",
    "    \n",
    "    return np.array(df.iloc[:,-1])\n",
    "\n",
    "#归一化\n",
    "def normalize_feature(df):\n",
    "    \n",
    "    #lambda表示对所有的column做一个循环,data2.std()样本标准偏差\n",
    "    return df.apply(lambda column:(column - column.mean())/column.std())"
   ]
  },
  {
   "cell_type": "code",
   "execution_count": 4,
   "id": "c010bd98",
   "metadata": {},
   "outputs": [
    {
     "name": "stdout",
     "output_type": "stream",
     "text": [
      "(100, 3)\n",
      "(100,)\n"
     ]
    }
   ],
   "source": [
    "X = get_X(data)\n",
    "print(X.shape)\n",
    "\n",
    "y = get_y(data)\n",
    "print(y.shape)"
   ]
  },
  {
   "cell_type": "markdown",
   "id": "3c798613",
   "metadata": {},
   "source": [
    "# sigmoid 函数\n",
    "g 代表一个常用的逻辑函数（logistic function）为S形函数（Sigmoid function），公式为： \\\\[g\\left( z \\right)=\\frac{1}{1+{{e}^{-z}}}\\\\] \n",
    "合起来，我们得到逻辑回归模型的假设函数： \n",
    "\t\\\\[{{h}_{\\theta }}\\left( x \\right)=\\frac{1}{1+{{e}^{-{{\\theta }^{T}}X}}}\\\\] "
   ]
  },
  {
   "cell_type": "code",
   "execution_count": 5,
   "id": "b6aa2628",
   "metadata": {},
   "outputs": [],
   "source": [
    "def sigmoid(z):\n",
    "    \n",
    "    gz = 1 / (1 + np.exp(-z))\n",
    "    \n",
    "    return gz"
   ]
  },
  {
   "cell_type": "code",
   "execution_count": 6,
   "id": "3f2eb442",
   "metadata": {},
   "outputs": [
    {
     "data": {
      "image/png": "[encoded data removed]",
      "text/plain": [
       "<Figure size 432x288 with 1 Axes>"
      ]
     },
     "metadata": {},
     "output_type": "display_data"
    }
   ],
   "source": [
    "fig , ax = plt.subplots()\n",
    "ax.plot(np.arange(-10,10,step=0.1),sigmoid(np.arange(-10,10,step=0.1)))\n",
    "ax.set_ylim((-0.1,1))\n",
    "ax.set_xlabel('z',fontsize=18)\n",
    "ax.set_ylabel('g(z)',fontsize=18)\n",
    "ax.set_title('sigmoid function', fontsize=18)\n",
    "plt.show()"
   ]
  },
  {
   "cell_type": "markdown",
   "id": "169b799a",
   "metadata": {},
   "source": [
    "# cost function(代价函数)\n",
    "> * $max(\\ell(\\theta)) = min(-\\ell(\\theta))$  \n",
    "> * choose $-\\ell(\\theta)$ as the cost function\n",
    "\n",
    "$$\\begin{align}\n",
    "  & J\\left( \\theta  \\right)=-\\frac{1}{m}\\sum\\limits_{i=1}^{m}{[{{y}^{(i)}}\\log \\left( {{h}_{\\theta }}\\left( {{x}^{(i)}} \\right) \\right)+\\left( 1-{{y}^{(i)}} \\right)\\log \\left( 1-{{h}_{\\theta }}\\left( {{x}^{(i)}} \\right) \\right)]} \\\\ \n",
    " & =\\frac{1}{m}\\sum\\limits_{i=1}^{m}{[-{{y}^{(i)}}\\log \\left( {{h}_{\\theta }}\\left( {{x}^{(i)}} \\right) \\right)-\\left( 1-{{y}^{(i)}} \\right)\\log \\left( 1-{{h}_{\\theta }}\\left( {{x}^{(i)}} \\right) \\right)]} \\\\ \n",
    "\\end{align}$$"
   ]
  },
  {
   "cell_type": "code",
   "execution_count": 7,
   "id": "579e96d6",
   "metadata": {},
   "outputs": [
    {
     "data": {
      "text/plain": [
       "0.6931471805599453"
      ]
     },
     "execution_count": 7,
     "metadata": {},
     "output_type": "execute_result"
    }
   ],
   "source": [
    "theta = np.zeros(3)\n",
    "\n",
    "def cost(theta,X,y):\n",
    "    \n",
    "    #X @ theta 等价于 X.dot(theta)\n",
    "    temp = -y * np.log(sigmoid(X@theta))-(1-y)*np.log(1-sigmoid(X@theta))\n",
    "    costf = np.mean(temp)\n",
    "    \n",
    "    return costf\n",
    "\n",
    "    \n",
    "cost(theta,X,y)"
   ]
  },
  {
   "cell_type": "markdown",
   "id": "cfc9e4f7",
   "metadata": {},
   "source": [
    "# gradient descent(梯度下降)\n",
    "* 这是批量梯度下降（batch gradient descent）  \n",
    "* 转化为向量化计算： $\\frac{1}{m} X^T( Sigmoid(X\\theta) - y )$\n",
    "$$\\frac{\\partial J\\left( \\theta  \\right)}{\\partial {{\\theta }_{j}}}=\\frac{1}{m}\\sum\\limits_{i=1}^{m}{({{h}_{\\theta }}\\left( {{x}^{(i)}} \\right)-{{y}^{(i)}})x_{_{j}}^{(i)}}$$"
   ]
  },
  {
   "cell_type": "code",
   "execution_count": 8,
   "id": "4514e90b",
   "metadata": {},
   "outputs": [
    {
     "data": {
      "text/plain": [
       "array([ -0.1       , -12.00921659, -11.26284221])"
      ]
     },
     "execution_count": 8,
     "metadata": {},
     "output_type": "execute_result"
    }
   ],
   "source": [
    "def gradient(theta,X,y):\n",
    "    \n",
    "    return 1/len(X)*X.T@(sigmoid(X@theta)-y)\n",
    "\n",
    "gradient(theta,X,y)"
   ]
  },
  {
   "cell_type": "markdown",
   "id": "e0e1f848",
   "metadata": {},
   "source": [
    "# 拟合参数"
   ]
  },
  {
   "cell_type": "code",
   "execution_count": 9,
   "id": "2fac338c",
   "metadata": {},
   "outputs": [
    {
     "name": "stdout",
     "output_type": "stream",
     "text": [
      "     fun: 0.2034977382341543\n",
      "     jac: array([9.62546326e-06, 2.86715425e-04, 3.28834357e-04])\n",
      " message: 'Optimization terminated successfully.'\n",
      "    nfev: 72\n",
      "    nhev: 0\n",
      "     nit: 28\n",
      "    njev: 182\n",
      "  status: 0\n",
      " success: True\n",
      "       x: array([-25.14563992,   0.20610619,   0.20134461])\n"
     ]
    }
   ],
   "source": [
    "import scipy.optimize as opt\n",
    "\n",
    "res = opt.minimize(fun = cost, x0 = theta, args = (X,y),method = 'Newton-CG',jac = gradient)\n",
    "print(res)"
   ]
  },
  {
   "cell_type": "markdown",
   "id": "fae1e2ea",
   "metadata": {},
   "source": [
    "# 用训练集预测和验证"
   ]
  },
  {
   "cell_type": "code",
   "execution_count": 10,
   "id": "ea1a0dad",
   "metadata": {},
   "outputs": [
    {
     "name": "stdout",
     "output_type": "stream",
     "text": [
      "              precision    recall  f1-score   support\n",
      "\n",
      "           0       0.87      0.85      0.86        40\n",
      "           1       0.90      0.92      0.91        60\n",
      "\n",
      "    accuracy                           0.89       100\n",
      "   macro avg       0.89      0.88      0.88       100\n",
      "weighted avg       0.89      0.89      0.89       100\n",
      "\n"
     ]
    }
   ],
   "source": [
    "def predict(x,theta):\n",
    "    \n",
    "    prob = sigmoid(X@theta)\n",
    "    return (prob >=0.5).astype(int) #.astype(“具体的数据类型”) 定义数据类型\n",
    "\n",
    "final_theta = res.x\n",
    "y_pred = predict(X,final_theta)\n",
    "\n",
    "print(classification_report(y,y_pred))"
   ]
  },
  {
   "cell_type": "code",
   "execution_count": 11,
   "id": "1ce2376e",
   "metadata": {},
   "outputs": [
    {
     "data": {
      "image/png": "[encoded data removed]",
      "text/plain": [
       "<Figure size 514.45x432 with 1 Axes>"
      ]
     },
     "metadata": {},
     "output_type": "display_data"
    }
   ],
   "source": [
    "coef = -(res.x / res.x[2])\n",
    "x = np.arange(130,step=0.1)\n",
    "y = coef[0]+coef[1]*x\n",
    "\n",
    "sns.set(context=\"notebook\",style=\"ticks\",font_scale=1.5)\n",
    "sns.lmplot(x = 'exam1',y = 'exam2',hue='admitted',data=data,\n",
    "           height=6, \n",
    "           fit_reg = False,\n",
    "           scatter_kws={\"s\": 50})\n",
    "plt.plot(x,y,'r')\n",
    "plt.xlim(0,130)\n",
    "plt.ylim(0,130)\n",
    "plt.title('Decision Boundary')\n",
    "plt.show()"
   ]
  },
  {
   "cell_type": "markdown",
   "id": "29c23763",
   "metadata": {},
   "source": [
    "# 2 基于正则化的逻辑回归"
   ]
  },
  {
   "cell_type": "code",
   "execution_count": 12,
   "id": "e75eef7c",
   "metadata": {},
   "outputs": [
    {
     "data": {
      "image/png": "[encoded data removed]",
      "text/plain": [
       "<Figure size 489.55x432 with 1 Axes>"
      ]
     },
     "metadata": {},
     "output_type": "display_data"
    }
   ],
   "source": [
    "df = pd.read_csv('ex2data2.txt', names=['test1', 'test2', 'accepted'])\n",
    "#data.head()不打括号没有格式\n",
    "df.head()\n",
    "\n",
    "sns.set(context='notebook',style = \"darkgrid\",palette = sns.color_palette(\"RdBu\",2))\n",
    "#视频展示的函数sns.lmplot()已经更新了，以下为不报错的用法\n",
    "sns.lmplot(x = 'test1',y = 'test2',hue='accepted',data=df,\n",
    "           height=6, \n",
    "           fit_reg = False,\n",
    "           scatter_kws={\"s\": 50})\n",
    "plt.title('Regularized Logistic Regression')\n",
    "plt.show()"
   ]
  },
  {
   "cell_type": "markdown",
   "id": "6584ebf5",
   "metadata": {},
   "source": [
    "# feature mapping（特征映射）\n",
    "将低维度的数据映射到高维度\n",
    "```\n",
    "for i in 0..i\n",
    "  for p in 0..i:\n",
    "    output x^(i-p) * y^p\n",
    "```"
   ]
  },
  {
   "cell_type": "code",
   "execution_count": 13,
   "id": "2c9375fa",
   "metadata": {},
   "outputs": [],
   "source": [
    "def feature_mapping(x,y,power,as_ndarray=False):\n",
    "    \n",
    "    #构造函数f，f有两个参数分别是(i-p,p)，f的表达式为np.power(x,i-p)*np.power(y,p)\n",
    "    data = {\"f{}{}\".format(i - p,p):np.power(x,i-p) * np.power(y,p)\n",
    "                for i in np.arange(power+1)\n",
    "                for p in np.arange(i+1)\n",
    "           }\n",
    "    \n",
    "    #将数据格式转换为矩阵的形式\n",
    "    if as_ndarray:\n",
    "        return pd.DataFrame(data).values\n",
    "    else:\n",
    "        return pd.DataFrame(data)\n"
   ]
  },
  {
   "cell_type": "code",
   "execution_count": 14,
   "id": "3594d02e",
   "metadata": {},
   "outputs": [
    {
     "name": "stdout",
     "output_type": "stream",
     "text": [
      "(118, 28)\n"
     ]
    },
    {
     "data": {
      "text/html": [
       "<div>\n",
       "<style scoped>\n",
       "    .dataframe tbody tr th:only-of-type {\n",
       "        vertical-align: middle;\n",
       "    }\n",
       "\n",
       "    .dataframe tbody tr th {\n",
       "        vertical-align: top;\n",
       "    }\n",
       "\n",
       "    .dataframe thead th {\n",
       "        text-align: right;\n",
       "    }\n",
       "</style>\n",
       "<table border=\"1\" class=\"dataframe\">\n",
       "  <thead>\n",
       "    <tr style=\"text-align: right;\">\n",
       "      <th></th>\n",
       "      <th>f00</th>\n",
       "      <th>f10</th>\n",
       "      <th>f01</th>\n",
       "      <th>f20</th>\n",
       "      <th>f11</th>\n",
       "      <th>f02</th>\n",
       "      <th>f30</th>\n",
       "      <th>f21</th>\n",
       "      <th>f12</th>\n",
       "      <th>f03</th>\n",
       "      <th>...</th>\n",
       "      <th>f23</th>\n",
       "      <th>f14</th>\n",
       "      <th>f05</th>\n",
       "      <th>f60</th>\n",
       "      <th>f51</th>\n",
       "      <th>f42</th>\n",
       "      <th>f33</th>\n",
       "      <th>f24</th>\n",
       "      <th>f15</th>\n",
       "      <th>f06</th>\n",
       "    </tr>\n",
       "  </thead>\n",
       "  <tbody>\n",
       "    <tr>\n",
       "      <th>0</th>\n",
       "      <td>1.0</td>\n",
       "      <td>0.051267</td>\n",
       "      <td>0.69956</td>\n",
       "      <td>0.002628</td>\n",
       "      <td>0.035864</td>\n",
       "      <td>0.489384</td>\n",
       "      <td>0.000135</td>\n",
       "      <td>0.001839</td>\n",
       "      <td>0.025089</td>\n",
       "      <td>0.342354</td>\n",
       "      <td>...</td>\n",
       "      <td>0.000900</td>\n",
       "      <td>0.012278</td>\n",
       "      <td>0.167542</td>\n",
       "      <td>1.815630e-08</td>\n",
       "      <td>2.477505e-07</td>\n",
       "      <td>0.000003</td>\n",
       "      <td>0.000046</td>\n",
       "      <td>0.000629</td>\n",
       "      <td>0.008589</td>\n",
       "      <td>0.117206</td>\n",
       "    </tr>\n",
       "    <tr>\n",
       "      <th>1</th>\n",
       "      <td>1.0</td>\n",
       "      <td>-0.092742</td>\n",
       "      <td>0.68494</td>\n",
       "      <td>0.008601</td>\n",
       "      <td>-0.063523</td>\n",
       "      <td>0.469143</td>\n",
       "      <td>-0.000798</td>\n",
       "      <td>0.005891</td>\n",
       "      <td>-0.043509</td>\n",
       "      <td>0.321335</td>\n",
       "      <td>...</td>\n",
       "      <td>0.002764</td>\n",
       "      <td>-0.020412</td>\n",
       "      <td>0.150752</td>\n",
       "      <td>6.362953e-07</td>\n",
       "      <td>-4.699318e-06</td>\n",
       "      <td>0.000035</td>\n",
       "      <td>-0.000256</td>\n",
       "      <td>0.001893</td>\n",
       "      <td>-0.013981</td>\n",
       "      <td>0.103256</td>\n",
       "    </tr>\n",
       "    <tr>\n",
       "      <th>2</th>\n",
       "      <td>1.0</td>\n",
       "      <td>-0.213710</td>\n",
       "      <td>0.69225</td>\n",
       "      <td>0.045672</td>\n",
       "      <td>-0.147941</td>\n",
       "      <td>0.479210</td>\n",
       "      <td>-0.009761</td>\n",
       "      <td>0.031616</td>\n",
       "      <td>-0.102412</td>\n",
       "      <td>0.331733</td>\n",
       "      <td>...</td>\n",
       "      <td>0.015151</td>\n",
       "      <td>-0.049077</td>\n",
       "      <td>0.158970</td>\n",
       "      <td>9.526844e-05</td>\n",
       "      <td>-3.085938e-04</td>\n",
       "      <td>0.001000</td>\n",
       "      <td>-0.003238</td>\n",
       "      <td>0.010488</td>\n",
       "      <td>-0.033973</td>\n",
       "      <td>0.110047</td>\n",
       "    </tr>\n",
       "    <tr>\n",
       "      <th>3</th>\n",
       "      <td>1.0</td>\n",
       "      <td>-0.375000</td>\n",
       "      <td>0.50219</td>\n",
       "      <td>0.140625</td>\n",
       "      <td>-0.188321</td>\n",
       "      <td>0.252195</td>\n",
       "      <td>-0.052734</td>\n",
       "      <td>0.070620</td>\n",
       "      <td>-0.094573</td>\n",
       "      <td>0.126650</td>\n",
       "      <td>...</td>\n",
       "      <td>0.017810</td>\n",
       "      <td>-0.023851</td>\n",
       "      <td>0.031940</td>\n",
       "      <td>2.780914e-03</td>\n",
       "      <td>-3.724126e-03</td>\n",
       "      <td>0.004987</td>\n",
       "      <td>-0.006679</td>\n",
       "      <td>0.008944</td>\n",
       "      <td>-0.011978</td>\n",
       "      <td>0.016040</td>\n",
       "    </tr>\n",
       "    <tr>\n",
       "      <th>4</th>\n",
       "      <td>1.0</td>\n",
       "      <td>-0.513250</td>\n",
       "      <td>0.46564</td>\n",
       "      <td>0.263426</td>\n",
       "      <td>-0.238990</td>\n",
       "      <td>0.216821</td>\n",
       "      <td>-0.135203</td>\n",
       "      <td>0.122661</td>\n",
       "      <td>-0.111283</td>\n",
       "      <td>0.100960</td>\n",
       "      <td>...</td>\n",
       "      <td>0.026596</td>\n",
       "      <td>-0.024128</td>\n",
       "      <td>0.021890</td>\n",
       "      <td>1.827990e-02</td>\n",
       "      <td>-1.658422e-02</td>\n",
       "      <td>0.015046</td>\n",
       "      <td>-0.013650</td>\n",
       "      <td>0.012384</td>\n",
       "      <td>-0.011235</td>\n",
       "      <td>0.010193</td>\n",
       "    </tr>\n",
       "  </tbody>\n",
       "</table>\n",
       "<p>5 rows × 28 columns</p>\n",
       "</div>"
      ],
      "text/plain": [
       "   f00       f10      f01       f20       f11       f02       f30       f21  \\\n",
       "0  1.0  0.051267  0.69956  0.002628  0.035864  0.489384  0.000135  0.001839   \n",
       "1  1.0 -0.092742  0.68494  0.008601 -0.063523  0.469143 -0.000798  0.005891   \n",
       "2  1.0 -0.213710  0.69225  0.045672 -0.147941  0.479210 -0.009761  0.031616   \n",
       "3  1.0 -0.375000  0.50219  0.140625 -0.188321  0.252195 -0.052734  0.070620   \n",
       "4  1.0 -0.513250  0.46564  0.263426 -0.238990  0.216821 -0.135203  0.122661   \n",
       "\n",
       "        f12       f03  ...       f23       f14       f05           f60  \\\n",
       "0  0.025089  0.342354  ...  0.000900  0.012278  0.167542  1.815630e-08   \n",
       "1 -0.043509  0.321335  ...  0.002764 -0.020412  0.150752  6.362953e-07   \n",
       "2 -0.102412  0.331733  ...  0.015151 -0.049077  0.158970  9.526844e-05   \n",
       "3 -0.094573  0.126650  ...  0.017810 -0.023851  0.031940  2.780914e-03   \n",
       "4 -0.111283  0.100960  ...  0.026596 -0.024128  0.021890  1.827990e-02   \n",
       "\n",
       "            f51       f42       f33       f24       f15       f06  \n",
       "0  2.477505e-07  0.000003  0.000046  0.000629  0.008589  0.117206  \n",
       "1 -4.699318e-06  0.000035 -0.000256  0.001893 -0.013981  0.103256  \n",
       "2 -3.085938e-04  0.001000 -0.003238  0.010488 -0.033973  0.110047  \n",
       "3 -3.724126e-03  0.004987 -0.006679  0.008944 -0.011978  0.016040  \n",
       "4 -1.658422e-02  0.015046 -0.013650  0.012384 -0.011235  0.010193  \n",
       "\n",
       "[5 rows x 28 columns]"
      ]
     },
     "execution_count": 14,
     "metadata": {},
     "output_type": "execute_result"
    }
   ],
   "source": [
    "x1 = np.array(df.test1)\n",
    "x2 = np.array(df.test2)\n",
    "data = feature_mapping(x1, x2, power=6)\n",
    "print(data.shape)\n",
    "data.head()"
   ]
  },
  {
   "cell_type": "markdown",
   "id": "fad87091",
   "metadata": {},
   "source": [
    "# regularized cost（正则化代价函数）\n",
    "$$J\\left( \\theta  \\right)=\\frac{1}{m}\\sum\\limits_{i=1}^{m}{[-{{y}^{(i)}}\\log \\left( {{h}_{\\theta }}\\left( {{x}^{(i)}} \\right) \\right)-\\left( 1-{{y}^{(i)}} \\right)\\log \\left( 1-{{h}_{\\theta }}\\left( {{x}^{(i)}} \\right) \\right)]}+\\frac{\\lambda }{2m}\\sum\\limits_{j=1}^{n}{\\theta _{j}^{2}}$$"
   ]
  },
  {
   "cell_type": "code",
   "execution_count": 15,
   "id": "7a4c4033",
   "metadata": {},
   "outputs": [
    {
     "data": {
      "text/plain": [
       "0.6931471805599454"
      ]
     },
     "execution_count": 15,
     "metadata": {},
     "output_type": "execute_result"
    }
   ],
   "source": [
    "theta = np.zeros(data.shape[1])\n",
    "X = feature_mapping(x1,x2,power = 6,as_ndarray = True)\n",
    "y = get_y(df)\n",
    "\n",
    "def regularsized_cost(theta,X,y,l=1):\n",
    "    \n",
    "    #theta取了一个子集，不包括theta0\n",
    "    theta_j1_to_n = theta[1:]\n",
    "    regularized_term = (l/(2*len(X)))*np.power(theta_j1_to_n,2).sum()\n",
    "    \n",
    "    return cost(theta,X,y)+regularized_term\n",
    "                        \n",
    "# 当theta设置为0的时候，正则化代价函数和代价函数一样\n",
    "regularsized_cost(theta,X,y,l=1)\n"
   ]
  },
  {
   "cell_type": "markdown",
   "id": "38fe3a08",
   "metadata": {},
   "source": [
    "# regularized gradient(正则化梯度)\n",
    "$$\\frac{\\partial J\\left( \\theta  \\right)}{\\partial {{\\theta }_{j}}}=\\left( \\frac{1}{m}\\sum\\limits_{i=1}^{m}{\\left( {{h}_{\\theta }}\\left( {{x}^{\\left( i \\right)}} \\right)-{{y}^{\\left( i \\right)}} \\right)} \\right)+\\frac{\\lambda }{m}{{\\theta }_{j}}\\text{ }\\text{             for  j}\\ge \\text{1}$$"
   ]
  },
  {
   "cell_type": "code",
   "execution_count": 16,
   "id": "01109394",
   "metadata": {},
   "outputs": [
    {
     "data": {
      "text/plain": [
       "array([8.47457627e-03, 1.87880932e-02, 7.77711864e-05, 5.03446395e-02,\n",
       "       1.15013308e-02, 3.76648474e-02, 1.83559872e-02, 7.32393391e-03,\n",
       "       8.19244468e-03, 2.34764889e-02, 3.93486234e-02, 2.23923907e-03,\n",
       "       1.28600503e-02, 3.09593720e-03, 3.93028171e-02, 1.99707467e-02,\n",
       "       4.32983232e-03, 3.38643902e-03, 5.83822078e-03, 4.47629067e-03,\n",
       "       3.10079849e-02, 3.10312442e-02, 1.09740238e-03, 6.31570797e-03,\n",
       "       4.08503006e-04, 7.26504316e-03, 1.37646175e-03, 3.87936363e-02])"
      ]
     },
     "execution_count": 16,
     "metadata": {},
     "output_type": "execute_result"
    }
   ],
   "source": [
    "def regularized_gradient(theta,X,y,l=1):\n",
    "    \n",
    "    #theta取了一个子集，不包括theta0\n",
    "    theta_j1_to_n = theta[1:]\n",
    "    regularized_theta = (l/len(X))*theta_j1_to_n\n",
    "    #np.concatenate()是numpy中对array进行拼接的函数\n",
    "    regularized_term = np.concatenate([np.array([0]),regularized_theta])\n",
    "    \n",
    "    return gradient(theta,X,y)+regularized_term\n",
    "    \n",
    "regularized_gradient(theta,X,y)"
   ]
  },
  {
   "cell_type": "markdown",
   "id": "e02cb3c2",
   "metadata": {},
   "source": [
    "# 拟合参数"
   ]
  },
  {
   "cell_type": "code",
   "execution_count": 17,
   "id": "6ce20085",
   "metadata": {},
   "outputs": [
    {
     "name": "stdout",
     "output_type": "stream",
     "text": [
      "     fun: 0.5290027297128025\n",
      "     jac: array([-5.95893846e-07,  5.61082263e-08,  1.14409155e-08, -1.33108823e-07,\n",
      "       -3.08407037e-08,  1.17357916e-07, -1.02461100e-08, -1.84029336e-08,\n",
      "        2.08159026e-08,  2.11374920e-08, -6.43612499e-09,  3.67159921e-09,\n",
      "        2.21205760e-08,  7.98385702e-09,  5.54599078e-08, -1.69197980e-09,\n",
      "       -1.41092064e-08,  1.72682438e-08, -4.12073878e-10,  2.23043164e-09,\n",
      "        3.79996814e-08,  1.15578779e-08,  2.44808092e-09,  9.65562320e-09,\n",
      "        1.07890646e-08,  1.05424498e-08,  3.71966700e-09,  3.17221915e-08])\n",
      " message: 'Optimization terminated successfully.'\n",
      "    nfev: 7\n",
      "    nhev: 0\n",
      "     nit: 6\n",
      "    njev: 71\n",
      "  status: 0\n",
      " success: True\n",
      "       x: array([ 1.27273984,  0.625272  ,  1.18109027, -2.01996012, -0.91742307,\n",
      "       -1.43166419,  0.12400634, -0.36553471, -0.35723957, -0.17513116,\n",
      "       -1.45815565, -0.0509883 , -0.61555498, -0.27470556, -1.19281785,\n",
      "       -0.24218804, -0.20600641, -0.0447304 , -0.27778468, -0.29537807,\n",
      "       -0.45635749, -1.04320196,  0.02777205, -0.29243136,  0.01556732,\n",
      "       -0.32737972, -0.14388635, -0.92465424])\n",
      "              precision    recall  f1-score   support\n",
      "\n",
      "           0       0.90      0.75      0.82        60\n",
      "           1       0.78      0.91      0.84        58\n",
      "\n",
      "    accuracy                           0.83       118\n",
      "   macro avg       0.84      0.83      0.83       118\n",
      "weighted avg       0.84      0.83      0.83       118\n",
      "\n"
     ]
    }
   ],
   "source": [
    "res = opt.minimize(fun = regularsized_cost, x0 = theta, args = (X,y),method = 'Newton-CG',jac = regularized_gradient)\n",
    "print(res)\n",
    "\n",
    "final_theta = res.x\n",
    "y_pred = predict(X,final_theta)\n",
    "print(classification_report(y,y_pred))"
   ]
  },
  {
   "cell_type": "code",
   "execution_count": 18,
   "id": "5f5c03f8",
   "metadata": {},
   "outputs": [
    {
     "name": "stdout",
     "output_type": "stream",
     "text": [
      "              precision    recall  f1-score   support\n",
      "\n",
      "           0       0.90      0.75      0.82        60\n",
      "           1       0.78      0.91      0.84        58\n",
      "\n",
      "    accuracy                           0.83       118\n",
      "   macro avg       0.84      0.83      0.83       118\n",
      "weighted avg       0.84      0.83      0.83       118\n",
      "\n"
     ]
    }
   ],
   "source": [
    "final_theta = res.x\n",
    "y_pred = predict(X,final_theta)\n",
    "\n",
    "print(classification_report(y,y_pred))"
   ]
  },
  {
   "cell_type": "markdown",
   "id": "c9d60fd1",
   "metadata": {},
   "source": [
    "# 使用不同的 $\\lambda$ （这个是常数）\n",
    "# 画出决策边界\n",
    "* 我们找到所有满足 $X\\times \\theta = 0$ 的x\n",
    "* instead of solving polynomial equation, just create a coridate x,y grid that is dense enough, and find all those $X\\times \\theta$ that is close enough to 0, then plot them"
   ]
  },
  {
   "cell_type": "code",
   "execution_count": 21,
   "id": "bdd175a3",
   "metadata": {},
   "outputs": [],
   "source": [
    "def draw_boundary(power,l):\n",
    "    \n",
    "    density = 1000\n",
    "    threshhold = 2 * 10 **-3 #阈值 0.002\n",
    "    \n",
    "    final_theta = feature_mapped_logistic_regression(power,l)\n",
    "    x,y = find_decision_boundary(density,power,final_theta,threshhold)\n",
    "    \n",
    "    df = pd.read_csv('ex2data2.txt',names=['test1','test2','accepted'])\n",
    "    sns.lmplot(x = 'test1',y = 'test2',hue = 'accepted',data = df,height = 6,fit_reg =False,scatter_kws={\"s\":100})\n",
    "    \n",
    "    plt.scatter(x,y,c = 'b',s=10)\n",
    "    plt.title('Decision Boundary')\n",
    "    plt.show\n",
    "\n",
    "def feature_mapped_logistic_regression(power,l):\n",
    "    \n",
    "    df = pd.read_csv('ex2data2.txt',names=['test1','test2','accepted'])\n",
    "    x1 = np.array(df.test1)\n",
    "    x2 = np.array(df.test2)\n",
    "    y = get_y(df)\n",
    "    \n",
    "    #扩散维度\n",
    "    X = feature_mapping(x1,x2,power,as_ndarray=True)\n",
    "    theta = np.zeros(X.shape[1])\n",
    "    \n",
    "    #拟合参数\n",
    "    res = opt.minimize(fun = regularsized_cost,\n",
    "                      x0 = theta,\n",
    "                      args = (X,y,l),\n",
    "                      method = 'TNC',\n",
    "                      jac = regularized_gradient)\n",
    "    \n",
    "    final_theta = res.x\n",
    "    \n",
    "    return final_theta\n",
    "\n",
    "def find_decision_boundary(density,power,theta,threshhold):\n",
    "    t1 = np.linspace(-1, 1.5, density)#从-1到1.5产生一千个样本\n",
    "    t2 = np.linspace(-1, 1.5, density)\n",
    "    \n",
    "    cordinates = [(x,y) for x in t1 for y in t2] #有1000*1000个坐标\n",
    "    x_cord,y_cord = zip(*cordinates) #把坐标分离开\n",
    "    mapped_cord = feature_mapping(x_cord,y_cord,power)\n",
    "    inner_product = mapped_cord.values @ theta\n",
    "    decision = mapped_cord[np.abs(inner_product)<threshhold]\n",
    "    \n",
    "    return decision.f10,decision.f01\n",
    "   "
   ]
  },
  {
   "cell_type": "code",
   "execution_count": 25,
   "id": "5b4cbfc7",
   "metadata": {},
   "outputs": [
    {
     "data": {
      "image/png": "[encoded data removed]",
      "text/plain": [
       "<Figure size 489.55x432 with 1 Axes>"
      ]
     },
     "metadata": {},
     "output_type": "display_data"
    }
   ],
   "source": [
    "#可以调整不同的l查看\n",
    "draw_boundary(power=6,l=1)"
   ]
  },
  {
   "cell_type": "code",
   "execution_count": null,
   "id": "b52516a5",
   "metadata": {},
   "outputs": [],
   "source": []
  }
 ],
 "metadata": {
  "kernelspec": {
   "display_name": "Python 3 (ipykernel)",
   "language": "python",
   "name": "python3"
  },
  "language_info": {
   "codemirror_mode": {
    "name": "ipython",
    "version": 3
   },
   "file_extension": ".py",
   "mimetype": "text/x-python",
   "name": "python",
   "nbconvert_exporter": "python",
   "pygments_lexer": "ipython3",
   "version": "3.9.12"
  }
 },
 "nbformat": 4,
 "nbformat_minor": 5
}
