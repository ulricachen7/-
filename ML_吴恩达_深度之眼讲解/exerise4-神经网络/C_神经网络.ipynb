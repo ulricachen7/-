{
 "cells": [
  {
   "cell_type": "markdown",
   "id": "6b612c47",
   "metadata": {},
   "source": [
    "# 1 神经网络"
   ]
  },
  {
   "cell_type": "code",
   "execution_count": 1,
   "id": "459bfe5f",
   "metadata": {},
   "outputs": [],
   "source": [
    "import numpy as np\n",
    "import pandas as pd\n",
    "import matplotlib.pyplot as plt\n",
    "from scipy.io import loadmat"
   ]
  },
  {
   "cell_type": "code",
   "execution_count": 2,
   "id": "f82fe5d9",
   "metadata": {},
   "outputs": [
    {
     "data": {
      "text/plain": [
       "{'__header__': b'MATLAB 5.0 MAT-file, Platform: GLNXA64, Created on: Sun Oct 16 13:09:09 2011',\n",
       " '__version__': '1.0',\n",
       " '__globals__': [],\n",
       " 'X': array([[0., 0., 0., ..., 0., 0., 0.],\n",
       "        [0., 0., 0., ..., 0., 0., 0.],\n",
       "        [0., 0., 0., ..., 0., 0., 0.],\n",
       "        ...,\n",
       "        [0., 0., 0., ..., 0., 0., 0.],\n",
       "        [0., 0., 0., ..., 0., 0., 0.],\n",
       "        [0., 0., 0., ..., 0., 0., 0.]]),\n",
       " 'y': array([[10],\n",
       "        [10],\n",
       "        [10],\n",
       "        ...,\n",
       "        [ 9],\n",
       "        [ 9],\n",
       "        [ 9]], dtype=uint8)}"
      ]
     },
     "execution_count": 2,
     "metadata": {},
     "output_type": "execute_result"
    }
   ],
   "source": [
    "data = loadmat('ex4data1.mat')\n",
    "data"
   ]
  },
  {
   "cell_type": "code",
   "execution_count": 3,
   "id": "5335e9df",
   "metadata": {},
   "outputs": [
    {
     "data": {
      "text/plain": [
       "((5000, 400), (5000, 1))"
      ]
     },
     "execution_count": 3,
     "metadata": {},
     "output_type": "execute_result"
    }
   ],
   "source": [
    "X = data['X']\n",
    "y = data['y']\n",
    "\n",
    "X.shape,y.shape"
   ]
  },
  {
   "cell_type": "markdown",
   "id": "4d85eab9",
   "metadata": {},
   "source": [
    "我们也需要对我们的y标签进行一次one-hot 编码。 one-hot 编码将类标签n（k类）转换为长度为k的向量，其中索引n为“hot”（1），而其余为0。 Scikitlearn有一个内置的实用程序，我们可以使用这个。"
   ]
  },
  {
   "cell_type": "code",
   "execution_count": 4,
   "id": "74c6e5af",
   "metadata": {},
   "outputs": [
    {
     "data": {
      "text/plain": [
       "(5000, 10)"
      ]
     },
     "execution_count": 4,
     "metadata": {},
     "output_type": "execute_result"
    }
   ],
   "source": [
    "from sklearn.preprocessing import OneHotEncoder\n",
    "encoder = OneHotEncoder(sparse = False)\n",
    "y_onehot = encoder.fit_transform(y)\n",
    "y_onehot.shape"
   ]
  },
  {
   "cell_type": "code",
   "execution_count": 5,
   "id": "73278893",
   "metadata": {},
   "outputs": [
    {
     "data": {
      "text/plain": [
       "(array([10], dtype=uint8), array([0., 0., 0., 0., 0., 0., 0., 0., 0., 1.]))"
      ]
     },
     "execution_count": 5,
     "metadata": {},
     "output_type": "execute_result"
    }
   ],
   "source": [
    "y[0],y_onehot[0,:]"
   ]
  },
  {
   "cell_type": "markdown",
   "id": "cc328953",
   "metadata": {},
   "source": [
    "# sigmoid 函数\n",
    "g 代表一个常用的逻辑函数（logistic function）为S形函数（Sigmoid function），公式为： \\\\[g\\left( z \\right)=\\frac{1}{1+{{e}^{-z}}}\\\\] \n",
    "合起来，我们得到逻辑回归模型的假设函数： \n",
    "\t\\\\[{{h}_{\\theta }}\\left( x \\right)=\\frac{1}{1+{{e}^{-{{\\theta }^{T}}X}}}\\\\] "
   ]
  },
  {
   "cell_type": "code",
   "execution_count": 6,
   "id": "793fdf37",
   "metadata": {},
   "outputs": [],
   "source": [
    "def sigmoid(x):\n",
    "    return 1 / (1 + np.exp(-x))"
   ]
  },
  {
   "cell_type": "markdown",
   "id": "d2f79958",
   "metadata": {},
   "source": [
    "# 前向传播函数\n",
    "> (400 + 1) -> (25 + 1) -> (10)\n",
    "\n",
    "<img style=\"float: left;\" src=\"nn_model.png\">"
   ]
  },
  {
   "cell_type": "code",
   "execution_count": 7,
   "id": "ff5b59ac",
   "metadata": {},
   "outputs": [],
   "source": [
    "def forward_propagate(X,theta1,theta2):\n",
    "    \n",
    "    m = X.shape[0]\n",
    "    \n",
    "    a1 = np.insert(X, 0, values = np.ones(m),axis = 1)\n",
    "    z2 = a1 * theta1.T\n",
    "    a2 = np.insert(sigmoid(z2), 0, values = np.ones(m),axis = 1)\n",
    "    z3 = a2 * theta2.T\n",
    "    h = sigmoid(z3)\n",
    "    \n",
    "    return a1, z2, a2, z3, h\n",
    " "
   ]
  },
  {
   "cell_type": "markdown",
   "id": "fab42bb5",
   "metadata": {},
   "source": [
    "# 代价函数\n",
    "Tip：重新定义矩阵维度可以使用reshape函数\n",
    "<img style=\"float: left;\" src=\"nn_regcost.png\">\n"
   ]
  },
  {
   "cell_type": "code",
   "execution_count": 8,
   "id": "9e232094",
   "metadata": {},
   "outputs": [],
   "source": [
    "def cost(params,input_size,hidden_size,num_labels,X,y,lamda):\n",
    "    \n",
    "    m = X.shape[0]\n",
    "    \n",
    "    X = np.matrix(X)\n",
    "    y = np.matrix(y)\n",
    "    \n",
    "    #按照输入层和隐藏层的维度定义theta的维度\n",
    "    theta1 = np.matrix(np.reshape(params[:hidden_size * (input_size + 1)], (hidden_size,(input_size +1))))\n",
    "    theta2 = np.matrix(np.reshape(params[hidden_size * (input_size + 1):], (num_labels,(hidden_size +1))))\n",
    "\n",
    "    a1, z2, a2, z3, h = forward_propagate(X,theta1,theta2)\n",
    "    \n",
    "    J = 0\n",
    "    \n",
    "    for i in range(m):\n",
    "        first_term = np.multiply(-y[i,:],np.log(h[i,:]))\n",
    "        second_term = np.multiply((1 - y[i,:]),np.log(1 - h[i,:]))\n",
    "        J += np.sum(first_term - second_term)\n",
    "        \n",
    "    J = J / m\n",
    "    \n",
    "    J += (float(lamda) / (2 * m)) * (np.sum(np.power(theta1[:,1:],2)) + np.sum(np.power(theta2[:,1:],2))) \n",
    "    \n",
    "    return J\n",
    "\n",
    "    "
   ]
  },
  {
   "cell_type": "code",
   "execution_count": 9,
   "id": "4be33d15",
   "metadata": {},
   "outputs": [
    {
     "data": {
      "text/plain": [
       "((25, 401), (10, 26))"
      ]
     },
     "execution_count": 9,
     "metadata": {},
     "output_type": "execute_result"
    }
   ],
   "source": [
    "input_size = 400\n",
    "hidden_size = 25\n",
    "num_labels = 10\n",
    "lamda = 1\n",
    "\n",
    "params = (np.random.random(size = hidden_size * (input_size + 1) + num_labels * (hidden_size + 1)) - 0.5)* 0.25\n",
    "\n",
    "m = X.shape[0]\n",
    "X = np.matrix(X)\n",
    "y = np.matrix(y)\n",
    "\n",
    "theta1 = np.matrix(np.reshape(params[:hidden_size * (input_size + 1)], (hidden_size,(input_size +1))))\n",
    "theta2 = np.matrix(np.reshape(params[hidden_size * (input_size + 1):], (num_labels,(hidden_size +1))))\n",
    "\n",
    "\n",
    "\n",
    "theta1.shape,theta2.shape"
   ]
  },
  {
   "cell_type": "code",
   "execution_count": 10,
   "id": "9fd51de0",
   "metadata": {},
   "outputs": [
    {
     "data": {
      "text/plain": [
       "((5000, 401), (5000, 25), (5000, 26), (5000, 10), (5000, 10))"
      ]
     },
     "execution_count": 10,
     "metadata": {},
     "output_type": "execute_result"
    }
   ],
   "source": [
    "a1, z2, a2, z3, h = forward_propagate(X,theta1,theta2)\n",
    "\n",
    "a1.shape, z2.shape, a2.shape, z3.shape, h.shape"
   ]
  },
  {
   "cell_type": "code",
   "execution_count": 11,
   "id": "dcbd4024",
   "metadata": {},
   "outputs": [
    {
     "data": {
      "text/plain": [
       "7.652254720789496"
      ]
     },
     "execution_count": 11,
     "metadata": {},
     "output_type": "execute_result"
    }
   ],
   "source": [
    "cost(params,input_size,hidden_size,num_labels,X,y_onehot,lamda)\n"
   ]
  },
  {
   "cell_type": "markdown",
   "id": "f6dcc629",
   "metadata": {},
   "source": [
    "# 反向传播法\n",
    "接下来是反向传播算法。 反向传播参数更新计算将减少训练数据上的网络误差。 我们需要的第一件事是计算我们之前创建的Sigmoid函数的梯度的函数。"
   ]
  },
  {
   "cell_type": "code",
   "execution_count": 12,
   "id": "265c72ee",
   "metadata": {},
   "outputs": [],
   "source": [
    "def sigmoid_gradient(z):\n",
    "    return np.multiply(sigmoid(z), (1 - sigmoid(z)))"
   ]
  },
  {
   "cell_type": "code",
   "execution_count": 13,
   "id": "26bcf564",
   "metadata": {},
   "outputs": [],
   "source": [
    "def back_propagate(params,input_size,hidden_size,num_labels,X,y,lamda):\n",
    "    \n",
    "    m = X.shape[0]\n",
    "    X = np.matrix(X)\n",
    "    y = np.matrix(y)\n",
    "    \n",
    "    #随机初始化\n",
    "    theta1 = np.matrix(np.reshape(params[:hidden_size * (input_size + 1)], (hidden_size,(input_size +1))))\n",
    "    theta2 = np.matrix(np.reshape(params[hidden_size * (input_size + 1):], (num_labels,(hidden_size +1))))\n",
    "        \n",
    "    #调用前向传播\n",
    "    a1, z2, a2, z3, h = forward_propagate(X,theta1,theta2)    \n",
    "    \n",
    "    J = 0\n",
    "    delta1 = np.zeros(theta1.shape)\n",
    "    delta2 = np.zeros(theta2.shape)\n",
    "    \n",
    "    #计算代价函数\n",
    "    for i in range(m):\n",
    "        first_term = np.multiply(-y[i,:], np.log(h[i,:]))\n",
    "        second_term = np.multiply((1-y[i,:]),np.log(1-h[i,:]+ 1e-5))\n",
    "        J += np.sum(first_term - second_term)\n",
    "        \n",
    "    J = J / m\n",
    "        \n",
    "    for t in range(m):\n",
    "        \n",
    "        a1t = a1[t,:]\n",
    "        z2t = z2[t,:]\n",
    "        a2t = a2[t,:]\n",
    "        ht = h[t,:]\n",
    "        yt = y[t,:]\n",
    "        \n",
    "        \n",
    "        #实现反向传播\n",
    "        d3t = ht - yt\n",
    "        z2t = np.insert(z2t,0,values = np.ones(1))\n",
    "        d2t = np.multiply((theta2.T * d3t.T).T,sigmoid_gradient(z2t))\n",
    "        delta1 = delta1 + (d2t[:,1:]).T * a1t\n",
    "        delta2 = delta2 + d3t.T * a2t\n",
    "    \n",
    "    #加入正则化\n",
    "    delta1[:,1:] = delta1[:,1:] + (theta1[:,1:]*lamda)/m\n",
    "    delta2[:,1:] = delta2[:,1:] + (theta2[:,1:]*lamda)/m  \n",
    "    \n",
    "    grad = np.concatenate((np.ravel(delta1),np.ravel(delta2)))\n",
    "  \n",
    "    return J,grad"
   ]
  },
  {
   "cell_type": "code",
   "execution_count": 14,
   "id": "e723fd34",
   "metadata": {},
   "outputs": [
    {
     "name": "stdout",
     "output_type": "stream",
     "text": [
      "5000\n"
     ]
    },
    {
     "data": {
      "text/plain": [
       "(7.646619469384145, (10285,))"
      ]
     },
     "execution_count": 14,
     "metadata": {},
     "output_type": "execute_result"
    }
   ],
   "source": [
    "J,grad = back_propagate(params,input_size,hidden_size,num_labels,X,y_onehot,lamda)\n",
    "print(m)\n",
    "J,grad.shape"
   ]
  },
  {
   "cell_type": "code",
   "execution_count": 19,
   "id": "cb838977",
   "metadata": {},
   "outputs": [
    {
     "data": {
      "text/plain": [
       "     fun: 0.2827359324575152\n",
       "     jac: array([-4.86019045e+00, -2.37847444e-05,  1.94348860e-06, ...,\n",
       "        2.23294367e+00,  5.42395931e+00, -7.09030828e-02])\n",
       " message: 'Max. number of function evaluations reached'\n",
       "    nfev: 251\n",
       "     nit: 14\n",
       "  status: 3\n",
       " success: False\n",
       "       x: array([ 1.36668925, -0.11892372,  0.00971744, ...,  3.68906256,\n",
       "        1.69051627, -6.21793987])"
      ]
     },
     "execution_count": 19,
     "metadata": {},
     "output_type": "execute_result"
    }
   ],
   "source": [
    "from scipy.optimize import minimize\n",
    "\n",
    "# fmin = minimize(fun = back_propagate, x0 = params, args = (input_size, hidden_size, num_labels, X, y_onehot, lamda),\n",
    "#                method = 'TNC', jac = True, options = {'maxiter':250})\n",
    "\n",
    "fmin = minimize(fun=back_propagate, x0=params, args=(input_size, hidden_size, num_labels, X, y_onehot, lamda), \n",
    "                method='TNC', jac=True, options={'maxiter': 250})\n",
    "\n",
    "fmin"
   ]
  },
  {
   "cell_type": "code",
   "execution_count": 20,
   "id": "9c392b7e",
   "metadata": {},
   "outputs": [
    {
     "name": "stdout",
     "output_type": "stream",
     "text": [
      "accuracy = 97.3%\n"
     ]
    }
   ],
   "source": [
    "X = np.matrix(X)\n",
    "theta1 = np.matrix(np.reshape(fmin.x[:hidden_size * (input_size + 1)], (hidden_size,(input_size +1))))\n",
    "theta2 = np.matrix(np.reshape(fmin.x[hidden_size * (input_size + 1):], (num_labels,(hidden_size +1))))\n",
    "\n",
    "a1, z2, a2, z3, h = forward_propagate(X,theta1,theta2)    \n",
    "   \n",
    "y_pred = np.array(np.argmax(h,axis = 1) + 1)\n",
    "\n",
    "correct = [1 if a==b else 0 for (a, b) in zip(y_pred,y)]\n",
    "accuracy = (sum(map(int, correct)) / float(len(correct)))\n",
    "\n",
    "print('accuracy = {0}%'.format(accuracy * 100))\n"
   ]
  }
 ],
 "metadata": {
  "kernelspec": {
   "display_name": "Python 3 (ipykernel)",
   "language": "python",
   "name": "python3"
  },
  "language_info": {
   "codemirror_mode": {
    "name": "ipython",
    "version": 3
   },
   "file_extension": ".py",
   "mimetype": "text/x-python",
   "name": "python",
   "nbconvert_exporter": "python",
   "pygments_lexer": "ipython3",
   "version": "3.9.12"
  }
 },
 "nbformat": 4,
 "nbformat_minor": 5
}
