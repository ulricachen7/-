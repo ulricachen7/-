{
 "cells": [
  {
   "cell_type": "code",
   "execution_count": 1,
   "id": "d106d1c7",
   "metadata": {},
   "outputs": [
    {
     "data": {
      "text/plain": [
       "tensor([[ 1.4854, -0.6951,  0.7735, -0.6029],\n",
       "        [ 1.2850, -0.3184, -0.7777,  0.5343],\n",
       "        [ 0.6766, -0.9403,  1.0232, -0.4793]], requires_grad=True)"
      ]
     },
     "execution_count": 1,
     "metadata": {},
     "output_type": "execute_result"
    }
   ],
   "source": [
    "import torch\n",
    "\n",
    "#requires_grad = True表明可以对当前的x进行求导\n",
    "x = torch.randn(3,4,requires_grad = True)\n",
    "\n",
    "#等价于 x = torch.randn(3,4) x.requires_grad = True\n",
    "\n",
    "x"
   ]
  },
  {
   "cell_type": "code",
   "execution_count": 2,
   "id": "dc77b6f9",
   "metadata": {},
   "outputs": [
    {
     "data": {
      "text/plain": [
       "tensor(3.9596, grad_fn=<SumBackward0>)"
      ]
     },
     "execution_count": 2,
     "metadata": {},
     "output_type": "execute_result"
    }
   ],
   "source": [
    "b = torch.randn(3,4,requires_grad = True)\n",
    "\n",
    "t = b + x\n",
    "\n",
    "y = t.sum()\n",
    "y"
   ]
  },
  {
   "cell_type": "code",
   "execution_count": 3,
   "id": "a99ad4f7",
   "metadata": {},
   "outputs": [
    {
     "data": {
      "text/plain": [
       "tensor([[1., 1., 1., 1.],\n",
       "        [1., 1., 1., 1.],\n",
       "        [1., 1., 1., 1.]])"
      ]
     },
     "execution_count": 3,
     "metadata": {},
     "output_type": "execute_result"
    }
   ],
   "source": [
    "y.backward()\n",
    "b.grad"
   ]
  },
  {
   "cell_type": "code",
   "execution_count": 4,
   "id": "7d7a0a0f",
   "metadata": {},
   "outputs": [
    {
     "data": {
      "text/plain": [
       "(False, True, True, True)"
      ]
     },
     "execution_count": 4,
     "metadata": {},
     "output_type": "execute_result"
    }
   ],
   "source": [
    "x = torch.rand(1)\n",
    "b = torch.rand(1,requires_grad = True)\n",
    "w = torch.rand(1,requires_grad = True)\n",
    "y = w * x\n",
    "z = y + b\n",
    "\n",
    "x.requires_grad, b.requires_grad, w.requires_grad, y.requires_grad"
   ]
  },
  {
   "cell_type": "code",
   "execution_count": 5,
   "id": "fa36ce5e",
   "metadata": {},
   "outputs": [
    {
     "data": {
      "text/plain": [
       "(True, True, True, False)"
      ]
     },
     "execution_count": 5,
     "metadata": {},
     "output_type": "execute_result"
    }
   ],
   "source": [
    "x.is_leaf, b.is_leaf, w.is_leaf, y.is_leaf"
   ]
  },
  {
   "cell_type": "code",
   "execution_count": 6,
   "id": "1457b112",
   "metadata": {},
   "outputs": [
    {
     "data": {
      "text/plain": [
       "tensor([0.0218])"
      ]
     },
     "execution_count": 6,
     "metadata": {},
     "output_type": "execute_result"
    }
   ],
   "source": [
    "z. backward(retain_graph = True)\n",
    "\n",
    "w.grad"
   ]
  },
  {
   "cell_type": "code",
   "execution_count": 7,
   "id": "bf2d8dbe",
   "metadata": {},
   "outputs": [
    {
     "data": {
      "text/plain": [
       "tensor([1.])"
      ]
     },
     "execution_count": 7,
     "metadata": {},
     "output_type": "execute_result"
    }
   ],
   "source": [
    "b.grad"
   ]
  },
  {
   "cell_type": "markdown",
   "id": "47990791",
   "metadata": {},
   "source": [
    "# 线性回归"
   ]
  },
  {
   "cell_type": "code",
   "execution_count": 8,
   "id": "7f70ca91",
   "metadata": {},
   "outputs": [
    {
     "data": {
      "text/plain": [
       "(11, 1)"
      ]
     },
     "execution_count": 8,
     "metadata": {},
     "output_type": "execute_result"
    }
   ],
   "source": [
    "import numpy as np\n",
    "import torch\n",
    "import torch.nn as nn\n",
    "\n",
    "x_values = [i for i in range(11)]\n",
    "x_train = np.array(x_values,dtype = np.float32)\n",
    "x_train = x_train.reshape(-1,1) #把数据转换为矩阵的形式\n",
    "x_train.shape"
   ]
  },
  {
   "cell_type": "code",
   "execution_count": 9,
   "id": "6b593e79",
   "metadata": {},
   "outputs": [
    {
     "data": {
      "text/plain": [
       "(11, 1)"
      ]
     },
     "execution_count": 9,
     "metadata": {},
     "output_type": "execute_result"
    }
   ],
   "source": [
    "y_values = [2 * i + 1 for i in x_values]\n",
    "y_train = np.array(y_values,dtype = np.float32)\n",
    "y_train = y_train.reshape(-1,1)\n",
    "y_train.shape"
   ]
  },
  {
   "cell_type": "markdown",
   "id": "15eb3f21",
   "metadata": {},
   "source": [
    "\n",
    "# 线性回归模型"
   ]
  },
  {
   "cell_type": "code",
   "execution_count": 10,
   "id": "397d588e",
   "metadata": {},
   "outputs": [],
   "source": [
    "class LinearRegressionModel(nn.Module):\n",
    "    def __init__(self, input_dim, output_dim):\n",
    "        super(LinearRegressionModel, self). __init__()\n",
    "        self.linear = nn.Linear(input_dim, output_dim)\n",
    "        \n",
    "    def forward(self,x):\n",
    "        out = self.linear(x)\n",
    "        return out\n",
    "\n",
    "input_dim = 1\n",
    "output_dim = 1\n",
    "\n",
    "model = LinearRegressionModel(input_dim,output_dim)"
   ]
  },
  {
   "cell_type": "markdown",
   "id": "1fe45308",
   "metadata": {},
   "source": [
    "# 线性回归"
   ]
  },
  {
   "cell_type": "code",
   "execution_count": 11,
   "id": "7d3d2eb5",
   "metadata": {},
   "outputs": [],
   "source": [
    "epochs = 1000\n",
    "learning_rate = 0.01\n",
    "optimizer = torch.optim.SGD(model.parameters(), lr=learning_rate) #指定一个优化器\n",
    "criterion = nn.MSELoss()"
   ]
  },
  {
   "cell_type": "code",
   "execution_count": 12,
   "id": "217ba89d",
   "metadata": {},
   "outputs": [
    {
     "name": "stdout",
     "output_type": "stream",
     "text": [
      "epoch 50,loss 0.3989797830581665\n",
      "epoch 100,loss 0.22756318747997284\n",
      "epoch 150,loss 0.12979353964328766\n",
      "epoch 200,loss 0.07402929663658142\n",
      "epoch 250,loss 0.042223576456308365\n",
      "epoch 300,loss 0.024082763120532036\n",
      "epoch 350,loss 0.013735874556005001\n",
      "epoch 400,loss 0.007834459654986858\n",
      "epoch 450,loss 0.0044684745371341705\n",
      "epoch 500,loss 0.002548651769757271\n",
      "epoch 550,loss 0.001453628297895193\n",
      "epoch 600,loss 0.0008291022386401892\n",
      "epoch 650,loss 0.0004728909698314965\n",
      "epoch 700,loss 0.0002697214367799461\n",
      "epoch 750,loss 0.00015383634308818728\n",
      "epoch 800,loss 8.774390153121203e-05\n",
      "epoch 850,loss 5.004580816603266e-05\n",
      "epoch 900,loss 2.8545066015794873e-05\n",
      "epoch 950,loss 1.6283036529785022e-05\n",
      "epoch 1000,loss 9.285477062803693e-06\n"
     ]
    }
   ],
   "source": [
    "for epoch in range(epochs):\n",
    "    epoch += 1\n",
    "    inputs = torch.from_numpy(x_train)\n",
    "    labels = torch.from_numpy(y_train)\n",
    "    \n",
    "    #梯度每一次都需要清零\n",
    "    optimizer.zero_grad()\n",
    "    \n",
    "    #前向传播\n",
    "    outputs = model(inputs)\n",
    "    \n",
    "    #计算损失\n",
    "    loss = criterion(outputs,labels)\n",
    "    \n",
    "    #反向传播\n",
    "    loss.backward()\n",
    "    \n",
    "    #更新权重参数\n",
    "    optimizer.step()\n",
    "    \n",
    "    #每隔五十次进行一次打印\n",
    "    if epoch % 50 == 0:\n",
    "        print('epoch {},loss {}'.format(epoch,loss.item()))\n",
    "    "
   ]
  },
  {
   "cell_type": "code",
   "execution_count": 13,
   "id": "2e8ee854",
   "metadata": {},
   "outputs": [
    {
     "ename": "AttributeError",
     "evalue": "module 'torch' has no attribute 'form_numpy'",
     "output_type": "error",
     "traceback": [
      "\u001b[0;31m---------------------------------------------------------------------------\u001b[0m",
      "\u001b[0;31mAttributeError\u001b[0m                            Traceback (most recent call last)",
      "Input \u001b[0;32mIn [13]\u001b[0m, in \u001b[0;36m<cell line: 1>\u001b[0;34m()\u001b[0m\n\u001b[0;32m----> 1\u001b[0m predicted \u001b[38;5;241m=\u001b[39m model(\u001b[43mtorch\u001b[49m\u001b[38;5;241;43m.\u001b[39;49m\u001b[43mform_numpy\u001b[49m(x_train)\u001b[38;5;241m.\u001b[39mrequires_grad_())\u001b[38;5;241m.\u001b[39mdata\u001b[38;5;241m.\u001b[39mnumpy()\n\u001b[1;32m      2\u001b[0m predicted\n",
      "\u001b[0;31mAttributeError\u001b[0m: module 'torch' has no attribute 'form_numpy'"
     ]
    }
   ],
   "source": [
    "predicted = model(torch.form_numpy(x_train).requires_grad_()).data.numpy()\n",
    "predicted"
   ]
  },
  {
   "cell_type": "markdown",
   "id": "1a085c90",
   "metadata": {},
   "source": [
    "# 模型的保存和读取"
   ]
  },
  {
   "cell_type": "code",
   "execution_count": null,
   "id": "7cefa7e1",
   "metadata": {},
   "outputs": [],
   "source": [
    "torch.save(model.state_dict(),'model.pkl')\n",
    "model.load_state_dict(torch.load('model.pkl'))"
   ]
  },
  {
   "cell_type": "code",
   "execution_count": null,
   "id": "f4a10dc0",
   "metadata": {},
   "outputs": [],
   "source": []
  }
 ],
 "metadata": {
  "kernelspec": {
   "display_name": "Python [conda env:pytorchcpu] *",
   "language": "python",
   "name": "conda-env-pytorchcpu-py"
  },
  "language_info": {
   "codemirror_mode": {
    "name": "ipython",
    "version": 3
   },
   "file_extension": ".py",
   "mimetype": "text/x-python",
   "name": "python",
   "nbconvert_exporter": "python",
   "pygments_lexer": "ipython3",
   "version": "3.9.13"
  }
 },
 "nbformat": 4,
 "nbformat_minor": 5
}
