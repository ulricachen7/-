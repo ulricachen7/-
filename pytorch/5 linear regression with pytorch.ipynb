{
 "cells": [
  {
   "cell_type": "code",
   "execution_count": 7,
   "id": "a327f8f3",
   "metadata": {},
   "outputs": [
    {
     "name": "stdout",
     "output_type": "stream",
     "text": [
      "0 tensor(29.5960, grad_fn=<MseLossBackward0>)\n",
      "50 tensor(0.2022, grad_fn=<MseLossBackward0>)\n",
      "100 tensor(0.0981, grad_fn=<MseLossBackward0>)\n",
      "150 tensor(0.0476, grad_fn=<MseLossBackward0>)\n",
      "200 tensor(0.0231, grad_fn=<MseLossBackward0>)\n",
      "250 tensor(0.0112, grad_fn=<MseLossBackward0>)\n",
      "300 tensor(0.0054, grad_fn=<MseLossBackward0>)\n",
      "350 tensor(0.0026, grad_fn=<MseLossBackward0>)\n",
      "400 tensor(0.0013, grad_fn=<MseLossBackward0>)\n",
      "450 tensor(0.0006, grad_fn=<MseLossBackward0>)\n",
      "500 tensor(0.0003, grad_fn=<MseLossBackward0>)\n",
      "550 tensor(0.0001, grad_fn=<MseLossBackward0>)\n",
      "600 tensor(7.0490e-05, grad_fn=<MseLossBackward0>)\n",
      "650 tensor(3.4178e-05, grad_fn=<MseLossBackward0>)\n",
      "700 tensor(1.6575e-05, grad_fn=<MseLossBackward0>)\n",
      "750 tensor(8.0377e-06, grad_fn=<MseLossBackward0>)\n",
      "800 tensor(3.8971e-06, grad_fn=<MseLossBackward0>)\n",
      "850 tensor(1.8899e-06, grad_fn=<MseLossBackward0>)\n",
      "900 tensor(9.1669e-07, grad_fn=<MseLossBackward0>)\n",
      "950 tensor(4.4423e-07, grad_fn=<MseLossBackward0>)\n",
      "w =  1.999688744544983\n",
      "b =  0.0007075761095620692\n",
      "y_pred =  tensor([[7.9995]])\n"
     ]
    }
   ],
   "source": [
    "import torch\n",
    "import numpy as np\n",
    "\n",
    "x_data = torch.Tensor([[1.0],[2.0],[3.0]])\n",
    "y_data = torch.Tensor([[2.0],[4.0],[6.0]])\n",
    "\n",
    "#继承自module，module中可以自动计算反向传播，可以构建计算图\n",
    "class LinearModel(torch.nn.Module):\n",
    "    #构造函数，在初始化函数时需要调用的函数\n",
    "    def __init__(self):\n",
    "        super(LinearModel, self).__init__() #调用副类的构造\n",
    "        self.linear = torch.nn.Linear(1,1) #构造一个对象\n",
    "     \n",
    "    #前馈函数需要执行的计算\n",
    "    def forward(self, x):\n",
    "        y_pred = self.linear(x)\n",
    "        return y_pred\n",
    "    \n",
    "model = LinearModel()\n",
    "\n",
    "criterion = torch.nn.MSELoss(size_average = False) #size_average是否需要求均值\n",
    "optimizer = torch.optim.SGD(model.parameters(),lr = 0.01) #优化器，可以直接进行优化\n",
    "\n",
    "for epoch in range(1000):\n",
    "    y_pred = model(x_data)\n",
    "    loss = criterion(y_pred,y_data) #算损失\n",
    "    \n",
    "    #每五十次打印一次\n",
    "    if epoch % 50 == 0:\n",
    "        print(epoch,loss)\n",
    "    \n",
    "    optimizer.zero_grad() #梯度归0\n",
    "    loss.backward() #反向传播\n",
    "    optimizer.step() #进行更新\n",
    "    \n",
    "print('w = ',model.linear.weight.item())\n",
    "print('b = ',model.linear.bias.item())\n",
    "\n",
    "x_test = torch.Tensor([[4.0]])\n",
    "y_test = model(x_test)\n",
    "\n",
    "print('y_pred = ',y_test.data)"
   ]
  },
  {
   "cell_type": "code",
   "execution_count": null,
   "id": "865b966f",
   "metadata": {},
   "outputs": [],
   "source": []
  }
 ],
 "metadata": {
  "kernelspec": {
   "display_name": "Python [conda env:pytorchcpu] *",
   "language": "python",
   "name": "conda-env-pytorchcpu-py"
  },
  "language_info": {
   "codemirror_mode": {
    "name": "ipython",
    "version": 3
   },
   "file_extension": ".py",
   "mimetype": "text/x-python",
   "name": "python",
   "nbconvert_exporter": "python",
   "pygments_lexer": "ipython3",
   "version": "3.9.13"
  }
 },
 "nbformat": 4,
 "nbformat_minor": 5
}
