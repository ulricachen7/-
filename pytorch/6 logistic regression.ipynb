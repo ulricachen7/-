{
 "cells": [
  {
   "cell_type": "code",
   "execution_count": 8,
   "id": "a0609358",
   "metadata": {},
   "outputs": [
    {
     "name": "stdout",
     "output_type": "stream",
     "text": [
      "0 3.576643943786621\n",
      "50 1.8648728132247925\n",
      "100 1.724453091621399\n",
      "150 1.6529122591018677\n",
      "200 1.5880604982376099\n",
      "250 1.528374433517456\n",
      "300 1.473322868347168\n",
      "350 1.4224421977996826\n",
      "400 1.3753180503845215\n",
      "450 1.331580638885498\n",
      "500 1.290900707244873\n",
      "550 1.2529854774475098\n",
      "600 1.217573642730713\n",
      "650 1.1844332218170166\n",
      "700 1.1533564329147339\n",
      "750 1.1241594552993774\n",
      "800 1.0966774225234985\n",
      "850 1.0707632303237915\n",
      "900 1.0462849140167236\n",
      "950 1.0231242179870605\n",
      "w =  1.280454397201538\n",
      "b =  -3.0904245376586914\n",
      "y_pred =  tensor([[0.8841]])\n"
     ]
    }
   ],
   "source": [
    "import torch\n",
    "\n",
    "#------------------------------------------------------#\n",
    "#-----------------------准备数据-------------------------#\n",
    "#------------------------------------------------------#\n",
    "\n",
    "x_data = torch.Tensor([[1.0],[2.0],[3.0]])\n",
    "y_data = torch.Tensor([[0],[0],[1]])\n",
    "\n",
    "#------------------------------------------------------#\n",
    "#----------------------设计构建模型-----------------------#\n",
    "#------------------------------------------------------#\n",
    "\n",
    "class LogisticRegressionModel(torch.nn.Module):\n",
    "    def __init__(self):\n",
    "        super(LogisticRegressionModel, self).__init__()\n",
    "        self.linear = torch.nn.Linear(1,1)\n",
    "        \n",
    "    def forward(self, x):\n",
    "        y_pred = torch.sigmoid(self.linear(x))\n",
    "        return y_pred\n",
    "    \n",
    "model = LogisticRegressionModel()\n",
    "\n",
    "#------------------------------------------------------#\n",
    "#------------------构造损失函数和优化器--------------------#\n",
    "#------------------------------------------------------#\n",
    "\n",
    "criterion = torch.nn.BCELoss(size_average = False)\n",
    "optimizer = torch.optim.SGD(model.parameters(),lr = 0.01)\n",
    "\n",
    "#------------------------------------------------------#\n",
    "#-----------------------进行训练循环---------------------#\n",
    "#------------------------------------------------------#\n",
    "\n",
    "for epoch in range(1000):\n",
    "    y_pred = model(x_data)\n",
    "    loss = criterion(y_pred,y_data)\n",
    "    \n",
    "    if epoch % 50 == 0:\n",
    "        print(epoch,loss.item())\n",
    "        \n",
    "    optimizer.zero_grad()\n",
    "    loss.backward()\n",
    "    optimizer.step()\n",
    "    \n",
    "print('w = ',model.linear.weight.item())\n",
    "print('b = ',model.linear.bias.item())\n",
    "\n",
    "x_test = torch.Tensor([[4.0]])\n",
    "y_test = model(x_test)\n",
    "\n",
    "print('y_pred = ',y_test.data)"
   ]
  },
  {
   "cell_type": "code",
   "execution_count": null,
   "id": "38d75fda",
   "metadata": {},
   "outputs": [],
   "source": []
  }
 ],
 "metadata": {
  "kernelspec": {
   "display_name": "Python [conda env:pytorchcpu] *",
   "language": "python",
   "name": "conda-env-pytorchcpu-py"
  },
  "language_info": {
   "codemirror_mode": {
    "name": "ipython",
    "version": 3
   },
   "file_extension": ".py",
   "mimetype": "text/x-python",
   "name": "python",
   "nbconvert_exporter": "python",
   "pygments_lexer": "ipython3",
   "version": "3.9.13"
  }
 },
 "nbformat": 4,
 "nbformat_minor": 5
}
