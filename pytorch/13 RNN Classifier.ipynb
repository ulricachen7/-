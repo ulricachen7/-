{
 "cells": [
  {
   "cell_type": "code",
   "execution_count": null,
   "id": "41f42cd5",
   "metadata": {},
   "outputs": [],
   "source": [
    "import torch\n",
    "from torch.utils.data import DataSet\n",
    "\n",
    "class NameDataset(Dataset):\n",
    "    def __init__(self,is_train_set=True):\n",
    "        filename = 'data/names_train.csv.gz' if is_train_set else 'data/names_test.csv.gz'\n",
    "        with gzip.open(filename,'rt') as f:\n",
    "            reader = csv.reader(f)\n",
    "            rows = list(reader)\n",
    "        self.names = [row[0] for row in rows]\n",
    "        self.len = len(self.names)\n",
    "        self.countries = [row[1] for row in rows]\n",
    "        #set(self.countries)变成集合，每个只保留一个实例，然后排序并且变成列表\n",
    "        self.country_list = list(sort(set(self.countries)))\n",
    "        self.country_dict = self.getCountriesDict()\n",
    "        self.country_num = len(self.country_list)\n",
    "        \n",
    "    def __getitem__(self,index):\n",
    "        return self.names[index],self.country_dict[self.countries[index]]\n",
    "    \n",
    "    def __len__(self):\n",
    "        return self.len\n",
    "    \n",
    "    def getCountryDict(self):\n",
    "        country_dict = dict()\n",
    "        for idx, country_name in enumerate(self.country_list,0):\n",
    "            country_dict[country_name] = idx\n",
    "        return country_dict\n",
    "    \n",
    "    def idx2char(self,index):\n",
    "        return self.country_list[index]\n",
    "    \n",
    "    def getCountiesName(self):\n",
    "        return self.country_num\n",
    "    \n",
    "trainset = NameDataset(is_train_set = True)\n",
    "trainloader = DataLoader(trainset,batch_size=BATCH_SZIE, shuffle=True)\n",
    "testset = NameDataset(is_train_set = True)\n",
    "testloader = DataLoader(testset,batch_size=BATCH_SZIE,shuffle=True)\n",
    "\n",
    "N_COUNTRY = trainset.getCountriesNum()"
   ]
  }
 ],
 "metadata": {
  "kernelspec": {
   "display_name": "Python [conda env:anaconda3-pytorchcpu] *",
   "language": "python",
   "name": "conda-env-anaconda3-pytorchcpu-py"
  },
  "language_info": {
   "codemirror_mode": {
    "name": "ipython",
    "version": 3
   },
   "file_extension": ".py",
   "mimetype": "text/x-python",
   "name": "python",
   "nbconvert_exporter": "python",
   "pygments_lexer": "ipython3",
   "version": "3.9.13"
  }
 },
 "nbformat": 4,
 "nbformat_minor": 5
}
